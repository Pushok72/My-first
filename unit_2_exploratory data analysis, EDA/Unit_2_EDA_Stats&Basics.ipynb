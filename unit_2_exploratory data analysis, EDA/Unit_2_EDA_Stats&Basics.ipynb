{
 "cells": [
  {
   "cell_type": "code",
   "execution_count": 1,
   "id": "ebfa0535",
   "metadata": {},
   "outputs": [
    {
     "data": {
      "text/html": [
       "<div>\n",
       "<style scoped>\n",
       "    .dataframe tbody tr th:only-of-type {\n",
       "        vertical-align: middle;\n",
       "    }\n",
       "\n",
       "    .dataframe tbody tr th {\n",
       "        vertical-align: top;\n",
       "    }\n",
       "\n",
       "    .dataframe thead th {\n",
       "        text-align: right;\n",
       "    }\n",
       "</style>\n",
       "<table border=\"1\" class=\"dataframe\">\n",
       "  <thead>\n",
       "    <tr style=\"text-align: right;\">\n",
       "      <th></th>\n",
       "      <th>men</th>\n",
       "      <th>women</th>\n",
       "    </tr>\n",
       "  </thead>\n",
       "  <tbody>\n",
       "    <tr>\n",
       "      <th>0</th>\n",
       "      <td>80.2</td>\n",
       "      <td>57.9</td>\n",
       "    </tr>\n",
       "    <tr>\n",
       "      <th>1</th>\n",
       "      <td>80.8</td>\n",
       "      <td>57.3</td>\n",
       "    </tr>\n",
       "    <tr>\n",
       "      <th>2</th>\n",
       "      <td>57.5</td>\n",
       "      <td>72.8</td>\n",
       "    </tr>\n",
       "    <tr>\n",
       "      <th>3</th>\n",
       "      <td>98.0</td>\n",
       "      <td>48.2</td>\n",
       "    </tr>\n",
       "    <tr>\n",
       "      <th>4</th>\n",
       "      <td>50.5</td>\n",
       "      <td>59.5</td>\n",
       "    </tr>\n",
       "    <tr>\n",
       "      <th>5</th>\n",
       "      <td>73.8</td>\n",
       "      <td>48.3</td>\n",
       "    </tr>\n",
       "    <tr>\n",
       "      <th>6</th>\n",
       "      <td>77.4</td>\n",
       "      <td>61.2</td>\n",
       "    </tr>\n",
       "    <tr>\n",
       "      <th>7</th>\n",
       "      <td>59.7</td>\n",
       "      <td>53.9</td>\n",
       "    </tr>\n",
       "    <tr>\n",
       "      <th>8</th>\n",
       "      <td>77.9</td>\n",
       "      <td>53.9</td>\n",
       "    </tr>\n",
       "    <tr>\n",
       "      <th>9</th>\n",
       "      <td>52.6</td>\n",
       "      <td>70.7</td>\n",
       "    </tr>\n",
       "  </tbody>\n",
       "</table>\n",
       "</div>"
      ],
      "text/plain": [
       "    men  women\n",
       "0  80.2   57.9\n",
       "1  80.8   57.3\n",
       "2  57.5   72.8\n",
       "3  98.0   48.2\n",
       "4  50.5   59.5\n",
       "5  73.8   48.3\n",
       "6  77.4   61.2\n",
       "7  59.7   53.9\n",
       "8  77.9   53.9\n",
       "9  52.6   70.7"
      ]
     },
     "execution_count": 1,
     "metadata": {},
     "output_type": "execute_result"
    }
   ],
   "source": [
    "import pandas as pd\n",
    "%matplotlib inline \n",
    "\n",
    "import math\n",
    "from scipy.stats import norm # изветсное сигма\n",
    "\n",
    "def confidence_interval_norm(alpha, sigma, n, mean):\n",
    "    value = -norm.ppf(alpha / 2) * sigma / math.sqrt(n)\n",
    "    return mean - value, mean + value\n",
    "\n",
    "\n",
    "from scipy.stats import t #неизветсное сигма\n",
    "\n",
    "def confidence_interval_t(alpha, s, n, mean):\n",
    "    value = -t.ppf(alpha / 2, n - 1) * s / math.sqrt(n)\n",
    "    return mean - value, mean + value\n",
    "\n",
    "from statsmodels.stats import weightstats # для тистирования разности средних. \n",
    "\n",
    "\n",
    "\n",
    "\n",
    "\n",
    "df = pd.DataFrame({\n",
    "    'men': [80.2, 80.8, 57.5, 98, 50.5, 73.8, 77.4, 59.7, 77.9, 52.6],\n",
    "    'women': [57.9, 57.3, 72.8, 48.2, 59.5, 48.3, 61.2, 53.9, 53.9, 70.7]\n",
    "})\n",
    "df"
   ]
  },
  {
   "cell_type": "code",
   "execution_count": 4,
   "id": "529fe948",
   "metadata": {},
   "outputs": [
    {
     "data": {
      "text/plain": [
       "12.469999999999999"
      ]
     },
     "execution_count": 4,
     "metadata": {},
     "output_type": "execute_result"
    }
   ],
   "source": [
    "df.men.mean()-df.women.mean()"
   ]
  },
  {
   "cell_type": "code",
   "execution_count": 13,
   "id": "44529d53",
   "metadata": {},
   "outputs": [
    {
     "data": {
      "text/plain": [
       "-1.5"
      ]
     },
     "execution_count": 13,
     "metadata": {},
     "output_type": "execute_result"
    }
   ],
   "source": [
    "a =[2,7,4,3,6,4,1,2]\n",
    "b = [5,2,4,8,1,6,7]\n",
    "a = pd.Series(a)\n",
    "b = pd.Series(b)\n",
    "a.median()- b.median()"
   ]
  },
  {
   "cell_type": "code",
   "execution_count": 34,
   "id": "02b1550c",
   "metadata": {},
   "outputs": [
    {
     "name": "stderr",
     "output_type": "stream",
     "text": [
      "C:\\Users\\Tom\\AppData\\Local\\Temp\\ipykernel_12424\\2237793345.py:1: FutureWarning: The series.append method is deprecated and will be removed from pandas in a future version. Use pandas.concat instead.\n",
      "  df.men.append(df.women) #1 option\n"
     ]
    },
    {
     "data": {
      "text/plain": [
       "59.6"
      ]
     },
     "execution_count": 34,
     "metadata": {},
     "output_type": "execute_result"
    }
   ],
   "source": [
    "df.men.append(df.women) #1 option\n",
    "a = pd.concat([df.men, df.women])#2option to concat\n",
    "a.median()\n",
    "\n",
    "\n",
    "\n"
   ]
  },
  {
   "cell_type": "code",
   "execution_count": 41,
   "id": "6586f09e",
   "metadata": {},
   "outputs": [
    {
     "data": {
      "text/plain": [
       "men      79.05\n",
       "women    60.35\n",
       "Name: 0.75, dtype: float64"
      ]
     },
     "execution_count": 41,
     "metadata": {},
     "output_type": "execute_result"
    }
   ],
   "source": [
    "#DataFrame.quantile(q=0.5, axis=0, numeric_only=True, interpolation='midpoint')\n",
    "df.quantile(q = 0.75, axis=0, numeric_only=True, interpolation='midpoint')"
   ]
  },
  {
   "cell_type": "code",
   "execution_count": 4,
   "id": "b1eddada",
   "metadata": {},
   "outputs": [
    {
     "data": {
      "text/html": [
       "<div>\n",
       "<style scoped>\n",
       "    .dataframe tbody tr th:only-of-type {\n",
       "        vertical-align: middle;\n",
       "    }\n",
       "\n",
       "    .dataframe tbody tr th {\n",
       "        vertical-align: top;\n",
       "    }\n",
       "\n",
       "    .dataframe thead th {\n",
       "        text-align: right;\n",
       "    }\n",
       "</style>\n",
       "<table border=\"1\" class=\"dataframe\">\n",
       "  <thead>\n",
       "    <tr style=\"text-align: right;\">\n",
       "      <th></th>\n",
       "      <th>value</th>\n",
       "    </tr>\n",
       "  </thead>\n",
       "  <tbody>\n",
       "    <tr>\n",
       "      <th>0</th>\n",
       "      <td>48.0</td>\n",
       "    </tr>\n",
       "    <tr>\n",
       "      <th>1</th>\n",
       "      <td>44.0</td>\n",
       "    </tr>\n",
       "    <tr>\n",
       "      <th>2</th>\n",
       "      <td>42.5</td>\n",
       "    </tr>\n",
       "    <tr>\n",
       "      <th>3</th>\n",
       "      <td>40.5</td>\n",
       "    </tr>\n",
       "    <tr>\n",
       "      <th>4</th>\n",
       "      <td>40.5</td>\n",
       "    </tr>\n",
       "    <tr>\n",
       "      <th>5</th>\n",
       "      <td>39.0</td>\n",
       "    </tr>\n",
       "    <tr>\n",
       "      <th>6</th>\n",
       "      <td>39.0</td>\n",
       "    </tr>\n",
       "    <tr>\n",
       "      <th>7</th>\n",
       "      <td>38.0</td>\n",
       "    </tr>\n",
       "    <tr>\n",
       "      <th>8</th>\n",
       "      <td>38.0</td>\n",
       "    </tr>\n",
       "    <tr>\n",
       "      <th>9</th>\n",
       "      <td>38.0</td>\n",
       "    </tr>\n",
       "    <tr>\n",
       "      <th>10</th>\n",
       "      <td>35.0</td>\n",
       "    </tr>\n",
       "    <tr>\n",
       "      <th>11</th>\n",
       "      <td>33.0</td>\n",
       "    </tr>\n",
       "    <tr>\n",
       "      <th>12</th>\n",
       "      <td>30.2</td>\n",
       "    </tr>\n",
       "    <tr>\n",
       "      <th>13</th>\n",
       "      <td>30.0</td>\n",
       "    </tr>\n",
       "    <tr>\n",
       "      <th>14</th>\n",
       "      <td>26.0</td>\n",
       "    </tr>\n",
       "    <tr>\n",
       "      <th>15</th>\n",
       "      <td>19.3</td>\n",
       "    </tr>\n",
       "    <tr>\n",
       "      <th>16</th>\n",
       "      <td>27.0</td>\n",
       "    </tr>\n",
       "    <tr>\n",
       "      <th>17</th>\n",
       "      <td>21.0</td>\n",
       "    </tr>\n",
       "  </tbody>\n",
       "</table>\n",
       "</div>"
      ],
      "text/plain": [
       "    value\n",
       "0    48.0\n",
       "1    44.0\n",
       "2    42.5\n",
       "3    40.5\n",
       "4    40.5\n",
       "5    39.0\n",
       "6    39.0\n",
       "7    38.0\n",
       "8    38.0\n",
       "9    38.0\n",
       "10   35.0\n",
       "11   33.0\n",
       "12   30.2\n",
       "13   30.0\n",
       "14   26.0\n",
       "15   19.3\n",
       "16   27.0\n",
       "17   21.0"
      ]
     },
     "execution_count": 4,
     "metadata": {},
     "output_type": "execute_result"
    }
   ],
   "source": [
    "data = pd.DataFrame({\n",
    "  'value': [48, 44, 42.5, 40.5, 40.5, 39, 39, 38, 38, 38, 35, 33, 30.2, 30, 26, 19.3, 27, 21]\n",
    "})\n",
    "data"
   ]
  },
  {
   "cell_type": "code",
   "execution_count": 26,
   "id": "4c85c5c3",
   "metadata": {},
   "outputs": [
    {
     "data": {
      "text/plain": [
       "<AxesSubplot:>"
      ]
     },
     "execution_count": 26,
     "metadata": {},
     "output_type": "execute_result"
    },
    {
     "data": {
      "image/png": "[encoded data removed]",
      "text/plain": [
       "<Figure size 640x480 with 1 Axes>"
      ]
     },
     "metadata": {},
     "output_type": "display_data"
    }
   ],
   "source": [
    "data.boxplot()"
   ]
  },
  {
   "cell_type": "code",
   "execution_count": 9,
   "id": "ac541211",
   "metadata": {},
   "outputs": [
    {
     "data": {
      "text/plain": [
       "value    38.0\n",
       "dtype: float64"
      ]
     },
     "execution_count": 9,
     "metadata": {},
     "output_type": "execute_result"
    }
   ],
   "source": [
    "data.median(axis=0)"
   ]
  },
  {
   "cell_type": "code",
   "execution_count": 27,
   "id": "ebe552fc",
   "metadata": {},
   "outputs": [
    {
     "data": {
      "text/plain": [
       "<AxesSubplot:>"
      ]
     },
     "execution_count": 27,
     "metadata": {},
     "output_type": "execute_result"
    },
    {
     "data": {
      "image/png": "[encoded data removed]",
      "text/plain": [
       "<Figure size 640x480 with 1 Axes>"
      ]
     },
     "metadata": {},
     "output_type": "display_data"
    },
    {
     "data": {
      "image/png": "[encoded data removed]",
      "text/plain": [
       "<Figure size 640x480 with 1 Axes>"
      ]
     },
     "metadata": {},
     "output_type": "display_data"
    }
   ],
   "source": [
    "df = pd.DataFrame({\n",
    "    'group_a': [72, 66, 63.75, 60.75, 60.75, 58.5, 58.5, 57, 57, 57, 52.5, 49.5, 45.3, 45, 39, 28.95, 40.5, 31.5, 49],\n",
    "    'group_b': [71, 72, 60, 50, 57, 77, 81, 58, 62, 61, 73, 74, 76, 65, 66, 67, 67, 67, 69]\n",
    "})\n",
    "df.boxplot()\n",
    "df.plot()"
   ]
  },
  {
   "cell_type": "code",
   "execution_count": 29,
   "id": "eca8a884",
   "metadata": {},
   "outputs": [
    {
     "data": {
      "text/plain": [
       "3.6"
      ]
     },
     "execution_count": 29,
     "metadata": {},
     "output_type": "execute_result"
    }
   ],
   "source": [
    "2*0.1+3*0.2+4*0.6+4*0.1"
   ]
  },
  {
   "cell_type": "code",
   "execution_count": 32,
   "id": "be6c279d",
   "metadata": {},
   "outputs": [
    {
     "data": {
      "text/plain": [
       "0.62"
      ]
     },
     "execution_count": 32,
     "metadata": {},
     "output_type": "execute_result"
    }
   ],
   "source": [
    "(2-3.6)**2*0.1+(3-3.6)**2*0.2+(4-3.6)**2*0.6+(5-3.6)**2*0.1"
   ]
  },
  {
   "cell_type": "code",
   "execution_count": 33,
   "id": "29c8bd26",
   "metadata": {},
   "outputs": [
    {
     "data": {
      "text/plain": [
       "0.7874007874011811"
      ]
     },
     "execution_count": 33,
     "metadata": {},
     "output_type": "execute_result"
    }
   ],
   "source": [
    "0.62**(1/2)"
   ]
  },
  {
   "cell_type": "code",
   "execution_count": 55,
   "id": "371e54e2",
   "metadata": {},
   "outputs": [
    {
     "data": {
      "text/html": [
       "<div>\n",
       "<style scoped>\n",
       "    .dataframe tbody tr th:only-of-type {\n",
       "        vertical-align: middle;\n",
       "    }\n",
       "\n",
       "    .dataframe tbody tr th {\n",
       "        vertical-align: top;\n",
       "    }\n",
       "\n",
       "    .dataframe thead th {\n",
       "        text-align: right;\n",
       "    }\n",
       "</style>\n",
       "<table border=\"1\" class=\"dataframe\">\n",
       "  <thead>\n",
       "    <tr style=\"text-align: right;\">\n",
       "      <th></th>\n",
       "      <th>X</th>\n",
       "      <th>P</th>\n",
       "      <th>U</th>\n",
       "    </tr>\n",
       "  </thead>\n",
       "  <tbody>\n",
       "    <tr>\n",
       "      <th>0</th>\n",
       "      <td>1</td>\n",
       "      <td>0.2</td>\n",
       "      <td>0</td>\n",
       "    </tr>\n",
       "    <tr>\n",
       "      <th>1</th>\n",
       "      <td>2</td>\n",
       "      <td>0.1</td>\n",
       "      <td>0</td>\n",
       "    </tr>\n",
       "    <tr>\n",
       "      <th>2</th>\n",
       "      <td>3</td>\n",
       "      <td>0.4</td>\n",
       "      <td>0</td>\n",
       "    </tr>\n",
       "    <tr>\n",
       "      <th>3</th>\n",
       "      <td>4</td>\n",
       "      <td>0.3</td>\n",
       "      <td>0</td>\n",
       "    </tr>\n",
       "  </tbody>\n",
       "</table>\n",
       "</div>"
      ],
      "text/plain": [
       "   X    P  U\n",
       "0  1  0.2  0\n",
       "1  2  0.1  0\n",
       "2  3  0.4  0\n",
       "3  4  0.3  0"
      ]
     },
     "execution_count": 55,
     "metadata": {},
     "output_type": "execute_result"
    }
   ],
   "source": [
    "df = pd.DataFrame({\n",
    "    'X': [1,2,3,4],\n",
    "    'P': [0.2, 0.1,0.4,0.3],\n",
    "    'U':[0,0,0,0]\n",
    "    })\n",
    "df2 = pd.DataFrame({\n",
    "    'Y': [-1,0,1,2],\n",
    "    'P': [0.5, 0.2,0.1,0.2]\n",
    "    })\n",
    "df2\n",
    "df"
   ]
  },
  {
   "cell_type": "code",
   "execution_count": 71,
   "id": "11b89005",
   "metadata": {},
   "outputs": [
    {
     "name": "stdout",
     "output_type": "stream",
     "text": [
      "2.8\n",
      "1.16\n",
      "9.4\n",
      "10.440000000000001\n",
      "1.4\n"
     ]
    },
    {
     "data": {
      "text/plain": [
       "11.840000000000002"
      ]
     },
     "execution_count": 71,
     "metadata": {},
     "output_type": "execute_result"
    }
   ],
   "source": [
    "Edf1 = sum(df.X*df.P)\n",
    "print(Edf1)\n",
    "Var_df1 = sum((df.X-Edf1)**2*df.P)\n",
    "print(Var_df1)\n",
    "df.U = 3*df.X + 1\n",
    "df\n",
    "EdfU = sum(df.U*df.P)\n",
    "print(EdfU)\n",
    "df2['S'] = 5-df2.Y\n",
    "df2\n",
    "EdfS = sum(df2.S*df2.P)\n",
    "EdfS\n",
    "Var_dfU = sum((df.U-EdfU)**2*df.P)\n",
    "print(Var_dfU)\n",
    "Var_dfS = sum((df2.S-EdfS)**2*df2.P)\n",
    "print(Var_dfS)\n",
    "Var_dfU+Var_dfS"
   ]
  },
  {
   "cell_type": "code",
   "execution_count": 6,
   "id": "33fb02f5",
   "metadata": {},
   "outputs": [
    {
     "data": {
      "text/plain": [
       "0.02275013194817921"
      ]
     },
     "execution_count": 6,
     "metadata": {},
     "output_type": "execute_result"
    }
   ],
   "source": [
    "1-norm.cdf(2)"
   ]
  },
  {
   "cell_type": "code",
   "execution_count": 13,
   "id": "987a5872",
   "metadata": {},
   "outputs": [
    {
     "data": {
      "text/plain": [
       "1.6448536269514722"
      ]
     },
     "execution_count": 13,
     "metadata": {},
     "output_type": "execute_result"
    }
   ],
   "source": [
    "norm.ppf(0.95)"
   ]
  },
  {
   "cell_type": "code",
   "execution_count": 28,
   "id": "bff40055",
   "metadata": {},
   "outputs": [
    {
     "data": {
      "text/plain": [
       "0.013000000000000012"
      ]
     },
     "execution_count": 28,
     "metadata": {},
     "output_type": "execute_result"
    }
   ],
   "source": [
    "#2.10 вес 70 +-5 вероятность 5 человек превысят 75\n",
    "\n",
    "(1- round(norm.cdf(75, loc = 70, scale = 2.236), 3))"
   ]
  },
  {
   "cell_type": "code",
   "execution_count": 36,
   "id": "3896a7ae",
   "metadata": {},
   "outputs": [
    {
     "data": {
      "text/plain": [
       "0.06923915803341026"
      ]
     },
     "execution_count": 36,
     "metadata": {},
     "output_type": "execute_result"
    }
   ],
   "source": [
    "norm.cdf(0.16, 0.2, 0.027)"
   ]
  },
  {
   "cell_type": "code",
   "execution_count": 37,
   "id": "25d89f25",
   "metadata": {},
   "outputs": [
    {
     "data": {
      "text/plain": [
       "3.7"
      ]
     },
     "execution_count": 37,
     "metadata": {},
     "output_type": "execute_result"
    }
   ],
   "source": [
    "2*0.1+3*0.2+4*0.6+5*0.1"
   ]
  },
  {
   "cell_type": "code",
   "execution_count": 38,
   "id": "936cb92c",
   "metadata": {},
   "outputs": [
    {
     "data": {
      "text/plain": [
       "18.0"
      ]
     },
     "execution_count": 38,
     "metadata": {},
     "output_type": "execute_result"
    }
   ],
   "source": [
    "2*(2+1)*0.1+3*(3+1)*0.2+4*(4+1)*0.6+5*0.1*6"
   ]
  },
  {
   "cell_type": "code",
   "execution_count": 42,
   "id": "7d729c9b",
   "metadata": {},
   "outputs": [
    {
     "data": {
      "text/plain": [
       "0.16"
      ]
     },
     "execution_count": 42,
     "metadata": {},
     "output_type": "execute_result"
    }
   ],
   "source": [
    "round(1-norm.cdf(820,700,120),2) # 1-я категория"
   ]
  },
  {
   "cell_type": "code",
   "execution_count": 43,
   "id": "c45f67d3",
   "metadata": {},
   "outputs": [
    {
     "data": {
      "text/plain": [
       "0.6"
      ]
     },
     "execution_count": 43,
     "metadata": {},
     "output_type": "execute_result"
    }
   ],
   "source": [
    "round(norm.cdf(730,700,120),2)"
   ]
  },
  {
   "cell_type": "code",
   "execution_count": 44,
   "id": "42411a2c",
   "metadata": {},
   "outputs": [
    {
     "data": {
      "text/plain": [
       "502.61756476582326"
      ]
     },
     "execution_count": 44,
     "metadata": {},
     "output_type": "execute_result"
    }
   ],
   "source": [
    "norm.ppf(0.05, 700, 120)"
   ]
  },
  {
   "cell_type": "markdown",
   "id": "b733b41c",
   "metadata": {},
   "source": [
    "Напомним, что выражение в формуле доверительного интервала, указанное после знака ± называется пределом погрешности. Предел погрешности можно также найти с помощью Python.\n",
    "\n",
    "Подсказки для задачи\n",
    "Для случая с известным значением σ предел погрешности и его интервалы\n",
    "можно найти, используя функцию \n",
    "\n",
    "confidence_interval_norm():\n",
    "\n",
    "Для случая с неизвестным  предел погрешности находится через \n",
    "\n",
    "confidence_interval_t().\n",
    "\n",
    "В обоих случаях:\n",
    "\n",
    "первый аргумент функции — уровень значимости ;\n",
    "второй — выборочное отклонение  или  ;\n",
    "третий — размер выборки ;\n",
    "четвертый — среднее значение выборки."
   ]
  },
  {
   "cell_type": "code",
   "execution_count": 14,
   "id": "76dfd64a",
   "metadata": {},
   "outputs": [
    {
     "data": {
      "text/plain": [
       "(1818.092671377004, 2181.907328622996)"
      ]
     },
     "execution_count": 14,
     "metadata": {},
     "output_type": "execute_result"
    }
   ],
   "source": [
    "def confidence_interval_t(alpha, s, n, mean):\n",
    "    value = -t.ppf(alpha / 2, n - 1) * s / math.sqrt(n)\n",
    "    return mean - value, mean + value\n",
    "\n",
    "confidence_interval_t(0.1, 400,15,2000)"
   ]
  },
  {
   "cell_type": "code",
   "execution_count": 12,
   "id": "9af64fc1",
   "metadata": {},
   "outputs": [
    {
     "data": {
      "text/plain": [
       "1778"
      ]
     },
     "execution_count": 12,
     "metadata": {},
     "output_type": "execute_result"
    }
   ],
   "source": [
    "n= 250\n",
    "x = 3540\n",
    "std = 1150\n",
    "a = 99\n"
   ]
  },
  {
   "cell_type": "code",
   "execution_count": 16,
   "id": "a545f6f8",
   "metadata": {},
   "outputs": [
    {
     "data": {
      "text/plain": [
       "(3352.6537883505453, 3727.3462116494547)"
      ]
     },
     "execution_count": 16,
     "metadata": {},
     "output_type": "execute_result"
    }
   ],
   "source": [
    "from scipy.stats import norm\n",
    "import math\n",
    "\n",
    "def confidence_interval_norm(alpha, sigma, n, mean):\n",
    "    value = -norm.ppf(alpha / 2) * sigma / math.sqrt(n)\n",
    "    return mean - value, mean + value\n",
    "\n",
    "\n",
    "confidence_interval_norm(0.01, 1150,250,3540)"
   ]
  },
  {
   "cell_type": "code",
   "execution_count": 27,
   "id": "0f353483",
   "metadata": {},
   "outputs": [
    {
     "name": "stdout",
     "output_type": "stream",
     "text": [
      "1.19\n",
      "0.8621033709609435\n"
     ]
    },
    {
     "data": {
      "text/plain": [
       "(0.5747930608807877, 1.8052069391192123)"
      ]
     },
     "execution_count": 27,
     "metadata": {},
     "output_type": "execute_result"
    }
   ],
   "source": [
    "x = [1.2,0.2,1.6,1.9,-0.4,0.5,1.4,1.7,2.5,1.3]\n",
    "x = pd.Series(x)\n",
    "x_average = x.mean()\n",
    "print(x_average)\n",
    "std_x = x.std() \n",
    "print(std_x)\n",
    "\n",
    "confidence_interval_t(0.05, 0.86,10,1.19)"
   ]
  },
  {
   "cell_type": "code",
   "execution_count": 36,
   "id": "89edac6e",
   "metadata": {},
   "outputs": [
    {
     "data": {
      "text/plain": [
       "-1.9599639845400545"
      ]
     },
     "execution_count": 36,
     "metadata": {},
     "output_type": "execute_result"
    }
   ],
   "source": [
    "-norm.ppf(0.01)\n",
    "t.ppf((1+0.99)/2, 9)\n",
    "t.ppf((1+0.95)/2, 99)\n",
    "norm.ppf(0.025)"
   ]
  },
  {
   "cell_type": "markdown",
   "id": "0100300f",
   "metadata": {},
   "source": [
    "# Stats&Basics - 4. Тестирование гипотез и планирование экспериментов"
   ]
  },
  {
   "cell_type": "code",
   "execution_count": 7,
   "id": "7b0a981a",
   "metadata": {},
   "outputs": [
    {
     "data": {
      "text/plain": [
       "6.407162948884881e-05"
      ]
     },
     "execution_count": 7,
     "metadata": {},
     "output_type": "execute_result"
    }
   ],
   "source": [
    "p_value = norm.cdf(-8.16)\n",
    "p_value\n",
    "p_value = 1- norm.cdf(3.83)\n",
    "p_value"
   ]
  },
  {
   "cell_type": "markdown",
   "id": "46b235a6",
   "metadata": {},
   "source": [
    "Производитель аккумуляторных батарей заявляет, что средний срок службы батарейки АА составляет 14 месяцев. Вы подозреваете, что на самом деле это число преувеличено.\n",
    "\n",
    "Чтобы проверить утверждение производителя, вы взяли случайную выборку из 64 батареек и посчитали выборочное среднее — 13.5 месяцев. Известно, что срок службы батарейки имеет стандартное отклонение  месяца. Для тестирования гипотезы используйте уровень значимости альфа  = 0,05.\n",
    "\n",
    "Обратите внимание, что как постановка альтернативной гипотезы, так и выбор уровня значимости альфа может повлиять на вывод, который вы делаете в результате тестирования гипотезы."
   ]
  },
  {
   "cell_type": "code",
   "execution_count": 17,
   "id": "5648e425",
   "metadata": {},
   "outputs": [
    {
     "name": "stdout",
     "output_type": "stream",
     "text": [
      "-2.0\n",
      "p-value = 0.023\n",
      "True\n"
     ]
    }
   ],
   "source": [
    "Zst = (13.5-14)/(2/(64**(1/2)))\n",
    "print(Zst)\n",
    "print(f'p-value = {round(norm.cdf(-2),3)}')\n",
    "print(0.023<0.05)\n",
    "#Таким образом, мы отвергаем нулевую гипотезу и приходим к выводу, что средний срок службы батарейки меньше 14 мес."
   ]
  },
  {
   "cell_type": "code",
   "execution_count": 26,
   "id": "747feb7c",
   "metadata": {},
   "outputs": [
    {
     "name": "stdout",
     "output_type": "stream",
     "text": [
      "-1.92\n",
      "p-value = 0.027\n",
      "True\n"
     ]
    }
   ],
   "source": [
    "Zst = (449-455)/(12.5/(16**(1/2)))\n",
    "print(Zst)\n",
    "print(f'p-value = {round(norm.cdf(Zst),3)}')\n",
    "print(0.027<0.05)"
   ]
  },
  {
   "cell_type": "code",
   "execution_count": 37,
   "id": "317c4929",
   "metadata": {},
   "outputs": [
    {
     "name": "stdout",
     "output_type": "stream",
     "text": [
      "Zst = 1.786\n",
      "P-value = 0.037\n",
      "Alpha = 0.05, False\n"
     ]
    }
   ],
   "source": [
    "Zst = (7-6.5)/(1.4/(25**(1/2)))\n",
    "Zst\n",
    "print(f'Zst = {round(Zst,3)}')\n",
    "Pvalue = round(1 - norm.cdf(Zst),3)\n",
    "print(f'P-value = {round(Pvalue,3)}')\n",
    "print(f'Alpha = 0.05, {Pvalue>0.05}')"
   ]
  },
  {
   "cell_type": "code",
   "execution_count": 40,
   "id": "2186064b",
   "metadata": {},
   "outputs": [
    {
     "name": "stdout",
     "output_type": "stream",
     "text": [
      "Tst = -1.137\n",
      "P-value = 0.129\n",
      "Alpha = 0.05, False\n"
     ]
    }
   ],
   "source": [
    "Tst = (11500-12000)/(5110/(135**(1/2)))\n",
    "print(f'Tst = {round(Tst,3)}')\n",
    "Pvalue = round(t.cdf(Tst, 134),3)\n",
    "print(f'P-value = {round(Pvalue,3)}')\n",
    "print(f'Alpha = 0.05, {Pvalue<0.05}')"
   ]
  },
  {
   "cell_type": "code",
   "execution_count": 47,
   "id": "9187a828",
   "metadata": {},
   "outputs": [
    {
     "name": "stdout",
     "output_type": "stream",
     "text": [
      "2.4119148685916203\n",
      "8.92\n"
     ]
    }
   ],
   "source": [
    "x = pd.Series([6.1,9.2,11.5,9.6,12.1,3.9,8.4,10.1,9.4,8.9])\n",
    "print(x.std())\n",
    "print(x.mean())\n",
    "\n"
   ]
  },
  {
   "cell_type": "code",
   "execution_count": 49,
   "id": "ee95295e",
   "metadata": {},
   "outputs": [
    {
     "name": "stdout",
     "output_type": "stream",
     "text": [
      "Tst = -1.416\n",
      "P-value = 0.095\n",
      "Alpha = 0.05, False\n"
     ]
    }
   ],
   "source": [
    "Tst = (8.92-10)/(2.412/(10**(1/2)))\n",
    "print(f'Tst = {round(Tst,3)}')\n",
    "Pvalue = round(t.cdf(Tst, 9),3)\n",
    "print(f'P-value = {round(Pvalue,3)}')\n",
    "print(f'Alpha = 0.05, {Pvalue<0.05}')"
   ]
  },
  {
   "cell_type": "code",
   "execution_count": 10,
   "id": "1759a484",
   "metadata": {},
   "outputs": [
    {
     "name": "stdout",
     "output_type": "stream",
     "text": [
      "Zst = -1.394\n",
      "P-value = 0.082\n",
      "Alpha = 0.05, False\n"
     ]
    }
   ],
   "source": [
    "# тестириование p гипотез\n",
    "Zst = (0.696-0.75)/((0.75*(1-0.75)/125)**0.5)\n",
    "print(f'Zst = {round(Zst,3)}')\n",
    "Pvalue = round(norm.cdf(Zst),3)\n",
    "print(f'P-value = {round(Pvalue,3)}')\n",
    "print(f'Alpha = 0.05, {Pvalue<0.05}') #p-value больеше альфа, в данном случае гипотеза верна"
   ]
  },
  {
   "cell_type": "markdown",
   "id": "feb777ca",
   "metadata": {},
   "source": [
    "# Разность средних"
   ]
  },
  {
   "cell_type": "code",
   "execution_count": 11,
   "id": "14737ed9",
   "metadata": {},
   "outputs": [
    {
     "data": {
      "text/plain": [
       "(-1.120432065446935, 0.27840903994521154, 16.673890238780608)"
      ]
     },
     "execution_count": 11,
     "metadata": {},
     "output_type": "execute_result"
    }
   ],
   "source": [
    "df = pd.DataFrame({\n",
    "    'x': [6.1, 9.2, 11.5, 8.6, 12.1, 3.9, 8.4, 10.1, 9.4, 8.9],\n",
    "    'y': [7.3, 8.7, 12.6, 6.8, 12, 6.9, 10.2, 17.1, 9.2, 11.6]\n",
    "})\n",
    "weightstats.ttest_ind(df.x,df.y, usevar = 'unequal')"
   ]
  },
  {
   "cell_type": "code",
   "execution_count": 23,
   "id": "6b00b36b",
   "metadata": {},
   "outputs": [
    {
     "data": {
      "text/plain": [
       "0.0"
      ]
     },
     "execution_count": 23,
     "metadata": {},
     "output_type": "execute_result"
    }
   ],
   "source": [
    "p = (62+29)/200\n",
    "p\n",
    "Zst = (0.62-0.29)/((p*(1-p)*(1/100+1/100)))**0.5\n",
    "Zst\n",
    "round(1-norm.cdf(Zst), 5)"
   ]
  },
  {
   "cell_type": "code",
   "execution_count": null,
   "id": "7f361f42",
   "metadata": {},
   "outputs": [],
   "source": []
  }
 ],
 "metadata": {
  "kernelspec": {
   "display_name": "Python 3 (ipykernel)",
   "language": "python",
   "name": "python3"
  },
  "language_info": {
   "codemirror_mode": {
    "name": "ipython",
    "version": 3
   },
   "file_extension": ".py",
   "mimetype": "text/x-python",
   "name": "python",
   "nbconvert_exporter": "python",
   "pygments_lexer": "ipython3",
   "version": "3.9.13"
  }
 },
 "nbformat": 4,
 "nbformat_minor": 5
}

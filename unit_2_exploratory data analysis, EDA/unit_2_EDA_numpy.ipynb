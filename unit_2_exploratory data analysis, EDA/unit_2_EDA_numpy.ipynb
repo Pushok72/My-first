{
 "cells": [
  {
   "cell_type": "code",
   "execution_count": 19,
   "id": "c69cb7fa",
   "metadata": {},
   "outputs": [],
   "source": [
    "import numpy as np\n",
    "import pandas as pd"
   ]
  },
  {
   "cell_type": "code",
   "execution_count": 19,
   "id": "295c1a76",
   "metadata": {},
   "outputs": [
    {
     "data": {
      "text/plain": [
       "array([[1, 2, 3, 4],\n",
       "       [1, 2, 3, 5]])"
      ]
     },
     "execution_count": 19,
     "metadata": {},
     "output_type": "execute_result"
    }
   ],
   "source": [
    "arr1 = np.array([[1,2,3,4],[1,2,3,5]], dtype = int)\n",
    "arr1"
   ]
  },
  {
   "cell_type": "code",
   "execution_count": 11,
   "id": "c20bcf2e",
   "metadata": {},
   "outputs": [
    {
     "data": {
      "text/plain": [
       "(2, 4)"
      ]
     },
     "execution_count": 11,
     "metadata": {},
     "output_type": "execute_result"
    }
   ],
   "source": [
    "np.shape(arr1)"
   ]
  },
  {
   "cell_type": "code",
   "execution_count": 14,
   "id": "4e97d308",
   "metadata": {},
   "outputs": [
    {
     "data": {
      "text/plain": [
       "array([[7, 9, 0],\n",
       "       [6, 6, 3],\n",
       "       [7, 9, 9]])"
      ]
     },
     "execution_count": 14,
     "metadata": {},
     "output_type": "execute_result"
    }
   ],
   "source": [
    "np.empty(5) # одномерный массив из пяти элементов, память для которого выделена, но не инициализирована\n",
    "np.zeros((10, 7)) # массив размером 10x7, заполненный нулями \n",
    "np.ones((3,3,3)) # массив размером 3х3х3, заполненный единицами \n",
    "np.eye(3) # единичная матрица (элементы главной диагонали равны 1, остальные — 0) размера 3х3\n",
    "np.full((3, 5), 3.14)  # массив 3x5 заполненный числом 3.14\n",
    "np.arange(0, 21, 7)  # одномерный массив, заполненный числами в диапазоне от 0 до 20 с шагом 7\n",
    "np.linspace(0, 1, 5)  # массив из пяти чисел, равномерно распределённых в интервале между 0 и 1 включительно\n",
    "np.random.randint(0, 10, (3, 3))  # массив размера 3х3, заполненный случайными числами из диапазона от 0 до 9 (включительно)"
   ]
  },
  {
   "cell_type": "code",
   "execution_count": 17,
   "id": "360a823a",
   "metadata": {},
   "outputs": [
    {
     "data": {
      "text/plain": [
       "array([0.  , 0.25, 0.5 , 0.75, 1.  ])"
      ]
     },
     "execution_count": 17,
     "metadata": {},
     "output_type": "execute_result"
    }
   ],
   "source": [
    "np.empty(5) # одномерный массив из пяти элементов, память для которого выделена, но не инициализирована"
   ]
  },
  {
   "cell_type": "code",
   "execution_count": 20,
   "id": "35b243cc",
   "metadata": {},
   "outputs": [
    {
     "data": {
      "text/plain": [
       "array([[0., 0., 0., 0., 0., 0., 0.],\n",
       "       [0., 0., 0., 0., 0., 0., 0.],\n",
       "       [0., 0., 0., 0., 0., 0., 0.],\n",
       "       [0., 0., 0., 0., 0., 0., 0.],\n",
       "       [0., 0., 0., 0., 0., 0., 0.],\n",
       "       [0., 0., 0., 0., 0., 0., 0.],\n",
       "       [0., 0., 0., 0., 0., 0., 0.],\n",
       "       [0., 0., 0., 0., 0., 0., 0.],\n",
       "       [0., 0., 0., 0., 0., 0., 0.],\n",
       "       [0., 0., 0., 0., 0., 0., 0.]])"
      ]
     },
     "execution_count": 20,
     "metadata": {},
     "output_type": "execute_result"
    }
   ],
   "source": [
    "np.zeros((10, 7)) # массив размером 10x7, заполненный нулями "
   ]
  },
  {
   "cell_type": "code",
   "execution_count": 21,
   "id": "db9b393a",
   "metadata": {},
   "outputs": [
    {
     "data": {
      "text/plain": [
       "array([[[1., 1., 1.],\n",
       "        [1., 1., 1.],\n",
       "        [1., 1., 1.]],\n",
       "\n",
       "       [[1., 1., 1.],\n",
       "        [1., 1., 1.],\n",
       "        [1., 1., 1.]],\n",
       "\n",
       "       [[1., 1., 1.],\n",
       "        [1., 1., 1.],\n",
       "        [1., 1., 1.]]])"
      ]
     },
     "execution_count": 21,
     "metadata": {},
     "output_type": "execute_result"
    }
   ],
   "source": [
    "np.ones((3,3,3)) # массив размером 3х3х3, заполненный единицами "
   ]
  },
  {
   "cell_type": "code",
   "execution_count": 22,
   "id": "28d13c4f",
   "metadata": {},
   "outputs": [
    {
     "data": {
      "text/plain": [
       "array([[1., 0., 0.],\n",
       "       [0., 1., 0.],\n",
       "       [0., 0., 1.]])"
      ]
     },
     "execution_count": 22,
     "metadata": {},
     "output_type": "execute_result"
    }
   ],
   "source": [
    "np.eye(3) # единичная матрица (элементы главной диагонали равны 1, остальные — 0) размера 3х3"
   ]
  },
  {
   "cell_type": "code",
   "execution_count": 25,
   "id": "b611d462",
   "metadata": {},
   "outputs": [
    {
     "data": {
      "text/plain": [
       "array([[3.14, 3.14, 3.14, 3.14, 3.14],\n",
       "       [3.14, 3.14, 3.14, 3.14, 3.14],\n",
       "       [3.14, 3.14, 3.14, 3.14, 3.14]])"
      ]
     },
     "execution_count": 25,
     "metadata": {},
     "output_type": "execute_result"
    }
   ],
   "source": [
    "np.full((3, 5), 3.14)  # массив 3x5 заполненный числом 3.14"
   ]
  },
  {
   "cell_type": "code",
   "execution_count": 28,
   "id": "129bafe3",
   "metadata": {},
   "outputs": [
    {
     "data": {
      "text/plain": [
       "array([ 0,  7, 14])"
      ]
     },
     "execution_count": 28,
     "metadata": {},
     "output_type": "execute_result"
    }
   ],
   "source": [
    "np.arange(0, 21, 7)  # одномерный массив, заполненный числами в диапазоне от 0 до 20 с шагом 7"
   ]
  },
  {
   "cell_type": "code",
   "execution_count": 34,
   "id": "38234144",
   "metadata": {},
   "outputs": [
    {
     "data": {
      "text/plain": [
       "array([0.  , 0.25, 0.5 , 0.75, 1.  ])"
      ]
     },
     "execution_count": 34,
     "metadata": {},
     "output_type": "execute_result"
    }
   ],
   "source": [
    "np.linspace(0, 1, 5)  # массив из пяти чисел, равномерно распределённых в интервале между 0 и 1 включительно"
   ]
  },
  {
   "cell_type": "code",
   "execution_count": 36,
   "id": "84387f59",
   "metadata": {},
   "outputs": [
    {
     "data": {
      "text/plain": [
       "array([[7, 9, 0],\n",
       "       [7, 0, 8],\n",
       "       [4, 5, 1]])"
      ]
     },
     "execution_count": 36,
     "metadata": {},
     "output_type": "execute_result"
    }
   ],
   "source": [
    "np.random.randint(0, 10, (3, 3))  # массив размера 3х3, заполненный случайными числами из диапазона от 0 до 9 (включительно)"
   ]
  },
  {
   "cell_type": "code",
   "execution_count": 45,
   "id": "b1510d2e",
   "metadata": {},
   "outputs": [
    {
     "data": {
      "text/plain": [
       "array([0, 1, 2, 3, 4, 5, 6, 7, 8, 9])"
      ]
     },
     "execution_count": 45,
     "metadata": {},
     "output_type": "execute_result"
    }
   ],
   "source": [
    "my_array = np.array([x for x in range(10)])\n",
    "my_array"
   ]
  },
  {
   "cell_type": "code",
   "execution_count": 46,
   "id": "f17e0e2e",
   "metadata": {},
   "outputs": [
    {
     "data": {
      "text/plain": [
       "12"
      ]
     },
     "execution_count": 46,
     "metadata": {},
     "output_type": "execute_result"
    }
   ],
   "source": [
    "#индекс можно указывать в отдельных квадратных скобках или внутри одной пары скобок через запятую\n",
    "my_array = np.array([[1,2,3,4], [10,11,12,13], [45,46,47,48]])\n",
    "my_array[1][2]\n",
    "my_array[1,2]"
   ]
  },
  {
   "cell_type": "code",
   "execution_count": 116,
   "id": "f6eeeece",
   "metadata": {},
   "outputs": [
    {
     "name": "stdout",
     "output_type": "stream",
     "text": [
      "3154.33\n",
      "121.37\n",
      "341505315559.2347\n"
     ]
    },
    {
     "data": {
      "text/plain": [
       "array([[-1.        , 10.        , -1.        , 56.        , -1.        ],\n",
       "       [31.6227766 ,  1.        , 31.68595904,  1.        , 31.74901573],\n",
       "       [-1.        ,  1.        , -1.        ,  9.        , -1.        ],\n",
       "       [31.6227766 ,  1.        , 31.68595904,  1.        , 31.74901573],\n",
       "       [-1.        , 10.        , -1.        , 56.        , -1.        ]])"
      ]
     },
     "execution_count": 116,
     "metadata": {},
     "output_type": "execute_result"
    }
   ],
   "source": [
    "#Упражнения\n",
    "\n",
    "first_line = [x*y for x in range(2, 100, 6) for y in range (7, 1, -2)]\n",
    "second_line = [x ** 0.5 for x in range(1000, 1101, 2)]\n",
    "third_line = [x**2 for x in range(51)]\n",
    "\n",
    "big_secret = np.array([first_line, second_line, third_line, second_line, first_line])\n",
    "\n",
    "a = big_secret[:, -1]\n",
    "b = 0\n",
    "for i in a:\n",
    "    b +=i\n",
    "print(round(b,2))\n",
    "\n",
    "q2 = big_secret[:, :5]\n",
    "b =q2[0,0]+ q2[1,1]+q2[2,2]+ q2[3,3]+ q2[4,4]\n",
    "print(round(b,2))\n",
    "\n",
    "q3 = big_secret[:, -5:]\n",
    "b =q3[0,0] * q3[1,1] * q3[2,2] * q3[3,3] * q3[4,4]\n",
    "print(b)\n",
    "\n",
    "\n",
    "for y in range(0, 5):\n",
    "       for x in range(0, 51):\n",
    "            if (y%2 == 0) and (x%2 == 0):\n",
    "                big_secret[y,x] = -1 \n",
    "            elif (y%2 !=0) and (x%2 != 0):\n",
    "                big_secret[y,x] = 1 \n",
    "\n",
    "big_secret[:,:5]\n"
   ]
  },
  {
   "cell_type": "code",
   "execution_count": 2,
   "id": "4f5717dd",
   "metadata": {},
   "outputs": [],
   "source": [
    "first = [x**(1/2) for x in range(100)]\n",
    "second = [x**(1/3) for x in range(100, 200)]\n",
    "third = [x/y for x in range(200,300,2) for y in [3,5]]\n",
    "\n",
    "great_secret = np.array([first, second, third]).T"
   ]
  },
  {
   "cell_type": "code",
   "execution_count": 17,
   "id": "2729c440",
   "metadata": {},
   "outputs": [
    {
     "name": "stdout",
     "output_type": "stream",
     "text": [
      "0.16006721889793019\n",
      "5470.0\n",
      "7.0710678118654755\n"
     ]
    },
    {
     "data": {
      "text/plain": [
       "115.12148016521353"
      ]
     },
     "execution_count": 17,
     "metadata": {},
     "output_type": "execute_result"
    }
   ],
   "source": [
    "q = np.cos(great_secret[0])\n",
    "print(q[0]+q[1]+q[2])\n",
    "\n",
    "q = great_secret[great_secret>50] #умма элементов массива great_secret, значение которых больше 50?\n",
    "print(np.sum(q))\n",
    "\n",
    "print (great_secret.flatten()[150]) #great_secret в одномерную форму. 150 index\n",
    "\n",
    "np.sum(np.sort(great_secret, axis = 0)[99]) #Отсортируйте значения столбцов массива great_secret по возрастанию. + sum"
   ]
  },
  {
   "cell_type": "code",
   "execution_count": 30,
   "id": "97206184",
   "metadata": {},
   "outputs": [
    {
     "name": "stdout",
     "output_type": "stream",
     "text": [
      "   ID (номер в журнале)  Рост, см  Масса тела, кг  Средний балл\n",
      "0                     1       135              34           4.0\n",
      "1                     2       160              43           5.0\n",
      "2                     3       163              40           4.3\n",
      "3                     4       147              44           5.0\n",
      "4                     5       138              41           4.7\n",
      "5                     6       149              54           3.9\n",
      "6                     7       136              39           4.2\n",
      "7                     8       154              48           4.9\n",
      "8                     9       137              35           3.7\n",
      "9                    10       165              60           4.6\n"
     ]
    },
    {
     "data": {
      "text/plain": [
       "4.449999999999999"
      ]
     },
     "execution_count": 30,
     "metadata": {},
     "output_type": "execute_result"
    }
   ],
   "source": [
    "students = pd.read_excel('students.xlsx')\n",
    "print(students)\n",
    "students = np.array(students)\n",
    "\n",
    "\n",
    "mean = np.mean(students[:,-1])\n",
    "mean\n",
    "\n",
    "median = np.median(students[:,-1])\n",
    "median"
   ]
  },
  {
   "cell_type": "code",
   "execution_count": 50,
   "id": "159b402a",
   "metadata": {},
   "outputs": [
    {
     "name": "stdout",
     "output_type": "stream",
     "text": [
      "[[1.         0.64314431]\n",
      " [0.64314431 1.        ]]\n",
      "[[1.         0.29801325]\n",
      " [0.29801325 1.        ]]\n",
      "[[1.         0.46293714]\n",
      " [0.46293714 1.        ]]\n",
      "В результате разброс в росте большинства учеников составляет более 11.08 см от среднего арифметического. \n"
     ]
    },
    {
     "data": {
      "text/plain": [
       "60.36"
      ]
     },
     "execution_count": 50,
     "metadata": {},
     "output_type": "execute_result"
    }
   ],
   "source": [
    "np.median(students[:,2]) #медианное значение массы тела школьников\n",
    "np.mean(students[:,2]) - np.median(students[:,2]) # разница среднего и медианы\n",
    "\n",
    "corr = np.corrcoef(students[:,1],students[:,2]) # коэффициент корреляции\n",
    "print(corr)\n",
    "\n",
    "corr = np.corrcoef(students[:,2],students[:,-1]) \n",
    "print(corr)\n",
    "\n",
    "corr = np.corrcoef(students[:,1],students[:,-1]) \n",
    "print(corr)\n",
    "\n",
    "np.std(students[:,1]) #рост, стандартное отклонение std\n",
    "print(f'В результате разброс в росте большинства учеников составляет более {round(np.std(students[:,1]),2)} см от среднего арифметического. ')\n",
    "\n",
    "np.std(students[:,3])\n",
    "(np.std(students[:,2]))**2 #дисперсия"
   ]
  },
  {
   "cell_type": "code",
   "execution_count": 56,
   "id": "4e7987e4",
   "metadata": {},
   "outputs": [],
   "source": [
    "my_array = np.array([[1,2,3,4,5],\n",
    "                     [6,7,8,9,10],\n",
    "                     [11,12,13,14,15],\n",
    "                     [16,17,18,19,20],\n",
    "                     [21,22,23,24,25]])\n"
   ]
  },
  {
   "cell_type": "code",
   "execution_count": 133,
   "id": "af10fbb1",
   "metadata": {},
   "outputs": [
    {
     "data": {
      "text/plain": [
       "array([[1.        , 0.99999973],\n",
       "       [0.99999973, 1.        ]])"
      ]
     },
     "execution_count": 133,
     "metadata": {},
     "output_type": "execute_result"
    }
   ],
   "source": [
    "my_sin = np.sin(my_array)\n",
    "np.sum(my_sin)\n",
    "\n",
    "my_sin[1:4,1:4] = np.ones((3,3))\n",
    "np.sum(my_sin)\n",
    "q = my_sin[:,:4].reshape((10, 2)) \n",
    "np.sum(q[:,0])\n",
    "\n",
    "bigdata = np.array([x*x for x in range(100, 1001) if x%2!= 0])\n",
    "np.std(bigdata)\n",
    "mask1 = np.array([1,0,1,0,1,0,1,0], dtype = bool)\n",
    "\n",
    "chet = bigdata[::2]\n",
    "nechet = bigdata[1::2]\n",
    "np.corrcoef(bigdata[::2], bigdata[1::2])"
   ]
  },
  {
   "cell_type": "code",
   "execution_count": 2,
   "id": "264c9545",
   "metadata": {},
   "outputs": [
    {
     "ename": "NameError",
     "evalue": "name 'dfsdf' is not defined",
     "output_type": "error",
     "traceback": [
      "\u001b[1;31m---------------------------------------------------------------------------\u001b[0m",
      "\u001b[1;31mNameError\u001b[0m                                 Traceback (most recent call last)",
      "\u001b[1;32m~\\AppData\\Local\\Temp\\ipykernel_4384\\4186366044.py\u001b[0m in \u001b[0;36m<module>\u001b[1;34m\u001b[0m\n\u001b[1;32m----> 1\u001b[1;33m \u001b[0ma\u001b[0m \u001b[1;33m=\u001b[0m \u001b[0mdfsdf\u001b[0m\u001b[1;33m\u001b[0m\u001b[1;33m\u001b[0m\u001b[0m\n\u001b[0m\u001b[0;32m      2\u001b[0m \u001b[0ma\u001b[0m\u001b[1;33m\u001b[0m\u001b[1;33m\u001b[0m\u001b[0m\n",
      "\u001b[1;31mNameError\u001b[0m: name 'dfsdf' is not defined"
     ]
    }
   ],
   "source": [
    "a = dfsdf\n",
    "a"
   ]
  },
  {
   "cell_type": "code",
   "execution_count": null,
   "id": "0b77249e",
   "metadata": {},
   "outputs": [],
   "source": []
  }
 ],
 "metadata": {
  "kernelspec": {
   "display_name": "Python 3 (ipykernel)",
   "language": "python",
   "name": "python3"
  },
  "language_info": {
   "codemirror_mode": {
    "name": "ipython",
    "version": 3
   },
   "file_extension": ".py",
   "mimetype": "text/x-python",
   "name": "python",
   "nbconvert_exporter": "python",
   "pygments_lexer": "ipython3",
   "version": "3.9.13"
  }
 },
 "nbformat": 4,
 "nbformat_minor": 5
}
